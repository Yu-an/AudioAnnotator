{
 "cells": [
  {
   "cell_type": "code",
   "execution_count": 1,
   "id": "1ffe36ff",
   "metadata": {},
   "outputs": [],
   "source": [
    "import pandas as pd"
   ]
  },
  {
   "cell_type": "code",
   "execution_count": 2,
   "id": "c4060a43",
   "metadata": {},
   "outputs": [],
   "source": [
    "data = \"../static/data/data.csv\""
   ]
  },
  {
   "cell_type": "code",
   "execution_count": 3,
   "id": "b03d1c82",
   "metadata": {},
   "outputs": [],
   "source": [
    "df = pd.read_csv(data, index_col = 0)"
   ]
  },
  {
   "cell_type": "code",
   "execution_count": 22,
   "id": "926ada00",
   "metadata": {},
   "outputs": [],
   "source": [
    "df_var = pd.read_csv(\"../static/data/annotation_schema.csv\")\n",
    "col_tba = df_var.columns.to_list()\n",
    "col_exit = [\"filename\",\"utterances\"]"
   ]
  },
  {
   "cell_type": "code",
   "execution_count": 26,
   "id": "5e672db9",
   "metadata": {},
   "outputs": [],
   "source": [
    "df_tba =df[[\"filename\",\"utterances\"] +df_var.columns.to_list()]"
   ]
  },
  {
   "cell_type": "code",
   "execution_count": 27,
   "id": "c76f82e4",
   "metadata": {},
   "outputs": [
    {
     "data": {
      "text/plain": [
       "array([['130202-MOT-1', '好了 还 有 汽车 在 这 呢 . ', 'Assertion', 'Declarative'],\n",
       "       ['130202-FAT-2', '什么 颜色 的 汽车 啊 ? ', 'Question', 'FRAG']],\n",
       "      dtype=object)"
      ]
     },
     "execution_count": 27,
     "metadata": {},
     "output_type": "execute_result"
    }
   ],
   "source": [
    "df_tba.values"
   ]
  },
  {
   "cell_type": "code",
   "execution_count": 15,
   "id": "c3f300af",
   "metadata": {},
   "outputs": [],
   "source": [
    "cols"
   ]
  },
  {
   "cell_type": "code",
   "execution_count": 17,
   "id": "c3deda2e",
   "metadata": {},
   "outputs": [
    {
     "data": {
      "text/html": [
       "<div>\n",
       "<style scoped>\n",
       "    .dataframe tbody tr th:only-of-type {\n",
       "        vertical-align: middle;\n",
       "    }\n",
       "\n",
       "    .dataframe tbody tr th {\n",
       "        vertical-align: top;\n",
       "    }\n",
       "\n",
       "    .dataframe thead th {\n",
       "        text-align: right;\n",
       "    }\n",
       "</style>\n",
       "<table border=\"1\" class=\"dataframe\">\n",
       "  <thead>\n",
       "    <tr style=\"text-align: right;\">\n",
       "      <th></th>\n",
       "      <th>SpeechAct</th>\n",
       "      <th>ClauseType</th>\n",
       "    </tr>\n",
       "    <tr>\n",
       "      <th>record</th>\n",
       "      <th></th>\n",
       "      <th></th>\n",
       "    </tr>\n",
       "  </thead>\n",
       "  <tbody>\n",
       "    <tr>\n",
       "      <th>1</th>\n",
       "      <td>Assertion</td>\n",
       "      <td>Declarative</td>\n",
       "    </tr>\n",
       "    <tr>\n",
       "      <th>2</th>\n",
       "      <td>Question</td>\n",
       "      <td>FRAG</td>\n",
       "    </tr>\n",
       "  </tbody>\n",
       "</table>\n",
       "</div>"
      ],
      "text/plain": [
       "        SpeechAct   ClauseType\n",
       "record                        \n",
       "1       Assertion  Declarative\n",
       "2        Question         FRAG"
      ]
     },
     "execution_count": 17,
     "metadata": {},
     "output_type": "execute_result"
    }
   ],
   "source": [
    "df[df_var.columns.to_list()]"
   ]
  },
  {
   "cell_type": "code",
   "execution_count": 18,
   "id": "1bf5a5e2",
   "metadata": {},
   "outputs": [
    {
     "data": {
      "text/html": [
       "<div>\n",
       "<style scoped>\n",
       "    .dataframe tbody tr th:only-of-type {\n",
       "        vertical-align: middle;\n",
       "    }\n",
       "\n",
       "    .dataframe tbody tr th {\n",
       "        vertical-align: top;\n",
       "    }\n",
       "\n",
       "    .dataframe thead th {\n",
       "        text-align: right;\n",
       "    }\n",
       "</style>\n",
       "<table border=\"1\" class=\"dataframe\">\n",
       "  <thead>\n",
       "    <tr style=\"text-align: right;\">\n",
       "      <th></th>\n",
       "      <th>filename</th>\n",
       "      <th>utterances</th>\n",
       "    </tr>\n",
       "    <tr>\n",
       "      <th>record</th>\n",
       "      <th></th>\n",
       "      <th></th>\n",
       "    </tr>\n",
       "  </thead>\n",
       "  <tbody>\n",
       "    <tr>\n",
       "      <th>1</th>\n",
       "      <td>130202-MOT-1</td>\n",
       "      <td>好了 还 有 汽车 在 这 呢 .</td>\n",
       "    </tr>\n",
       "    <tr>\n",
       "      <th>2</th>\n",
       "      <td>130202-FAT-2</td>\n",
       "      <td>什么 颜色 的 汽车 啊 ?</td>\n",
       "    </tr>\n",
       "  </tbody>\n",
       "</table>\n",
       "</div>"
      ],
      "text/plain": [
       "            filename          utterances\n",
       "record                                  \n",
       "1       130202-MOT-1  好了 还 有 汽车 在 这 呢 . \n",
       "2       130202-FAT-2     什么 颜色 的 汽车 啊 ? "
      ]
     },
     "execution_count": 18,
     "metadata": {},
     "output_type": "execute_result"
    }
   ],
   "source": [
    "df[[\"filename\",\"utterances\"]]"
   ]
  },
  {
   "cell_type": "code",
   "execution_count": 13,
   "id": "7f96fbf5",
   "metadata": {},
   "outputs": [
    {
     "data": {
      "text/plain": [
       "array([['Question', 'Interrogative'],\n",
       "       ['Assertion', 'Declarative'],\n",
       "       ['Request', 'Imperative']], dtype=object)"
      ]
     },
     "execution_count": 13,
     "metadata": {},
     "output_type": "execute_result"
    }
   ],
   "source": [
    "df_var.values"
   ]
  },
  {
   "cell_type": "code",
   "execution_count": null,
   "id": "5f407e32",
   "metadata": {},
   "outputs": [],
   "source": [
    "audios = df[\"filenames\"].to_list()\n",
    "to_annot = df_var.columns.to_list()\n",
    "for var in to_annot:\n",
    "    var1\n"
   ]
  }
 ],
 "metadata": {
  "kernelspec": {
   "display_name": "Python 3 (ipykernel)",
   "language": "python",
   "name": "python3"
  },
  "language_info": {
   "codemirror_mode": {
    "name": "ipython",
    "version": 3
   },
   "file_extension": ".py",
   "mimetype": "text/x-python",
   "name": "python",
   "nbconvert_exporter": "python",
   "pygments_lexer": "ipython3",
   "version": "3.9.12"
  }
 },
 "nbformat": 4,
 "nbformat_minor": 5
}
